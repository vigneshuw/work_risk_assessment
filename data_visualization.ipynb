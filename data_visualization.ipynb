{
 "cells": [
  {
   "cell_type": "code",
   "execution_count": null,
   "id": "initial_id",
   "metadata": {
    "collapsed": true
   },
   "outputs": [],
   "source": [
    "import copy\n",
    "import os\n",
    "import yaml\n",
    "import sys\n",
    "import matplotlib\n",
    "import matplotlib.pyplot as plt\n",
    "import numpy as np\n",
    "import pandas as pd\n",
    "import glob\n",
    "\n",
    "\n",
    "font = {\n",
    "    \"family\": 'monospace',\n",
    "    \"size\": 20\n",
    "}\n",
    "matplotlib.rc('font', **font)\n",
    "\n",
    "# Main data path\n",
    "data_path = os.path.join(os.getcwd(), \"data\")\n",
    "# Figures save paths\n",
    "with open(\"secrets.yml\", \"r\") as file_handle:\n",
    "    fig_save_paths = yaml.load(file_handle, Loader=yaml.Loader)"
   ]
  },
  {
   "cell_type": "markdown",
   "source": [
    "# Weight Lifting Task\n",
    "\n",
    "- Analyzing the data from lifting weights\n",
    "- There are two tasks here - Task-01 and Task-02"
   ],
   "metadata": {
    "collapsed": false
   },
   "id": "7702325907b7d897"
  },
  {
   "cell_type": "markdown",
   "source": [
    "## Task-02\n",
    "\n",
    "Lifting the weight and putting it on a table\n"
   ],
   "metadata": {
    "collapsed": false
   },
   "id": "e73be32a989c6b36"
  },
  {
   "cell_type": "code",
   "execution_count": null,
   "outputs": [],
   "source": [
    "weight_lifting = os.path.join(data_path, \"WeightLifting\")\n",
    "# Get all the \".csv\" files\n",
    "all_parsed_files = glob.glob(\"**/*.csv\", root_dir=weight_lifting, recursive=True)\n",
    "\n",
    "# Select Task-2\n",
    "selected_parsed_files = [x for x in all_parsed_files if \"Task-2\" in x.split(os.sep)]\n",
    "\n",
    "# Get the weight classes\n",
    "weights = []\n",
    "for file in selected_parsed_files:\n",
    "    weight_class = file.split(os.sep)[2]\n",
    "    if weight_class not in weights:\n",
    "        weights.append(weight_class)\n",
    "\n",
    "# Load the data\n",
    "loaded_data = {}\n",
    "for file_path in selected_parsed_files:\n",
    "    # Full path to file\n",
    "    full_path = os.path.join(weight_lifting, file_path)\n",
    "\n",
    "    # Load the time of DAQ\n",
    "    with open(full_path, \"r\") as file_handle:\n",
    "        daq_time = file_handle.readline()\n",
    "        daq_time = daq_time.split(\" \")[-1]\n",
    "        daq_time = int(daq_time[0:-2])\n",
    "    # Read the csv\n",
    "    df = pd.read_csv(full_path, header=\"infer\", skiprows=1)\n",
    "\n",
    "    # Store data\n",
    "    loaded_data[full_path] = {\n",
    "        \"daq_time\": daq_time,\n",
    "        \"df\": df\n",
    "    }\n"
   ],
   "metadata": {
    "collapsed": false
   },
   "id": "48adaefca99cc3bb"
  },
  {
   "cell_type": "markdown",
   "source": [
    "### Evaluate the Sampling Performance\n",
    "\n",
    "How effectively can we maintain the sampling rate?\n"
   ],
   "metadata": {
    "collapsed": false
   },
   "id": "b082cf2d423fc091"
  },
  {
   "cell_type": "code",
   "execution_count": null,
   "outputs": [],
   "source": [
    "sentinels = {\"DAQSentinel01\": [],\n",
    "             \"DAQSentinel02\": [],\n",
    "             \"DAQSentinel03\": []}\n",
    "sampling_rates = {}\n",
    "for file_path, data in loaded_data.items():\n",
    "    # Choose the right sentinel\n",
    "    sentinel = file_path.split(\"/\")[-1].split(\"_\")[0]\n",
    "\n",
    "    # Determine sampling rate\n",
    "    total_time = data[\"daq_time\"]\n",
    "    samples = data[\"df\"].shape[0]\n",
    "    sentinels[sentinel].append(samples / total_time)\n",
    "\n",
    "for sentinel in sentinels.keys():\n",
    "    print(\"Sampling Rate for \" + sentinel + \" with mean \" + str(round(np.mean(sentinels[sentinel]), 2)) +\n",
    "          \" and std of \" + str(round(np.std(sentinels[sentinel]), 2)))\n",
    "\n",
    "    # Get the mean sampling rate\n",
    "    sampling_rates[sentinel] = round(np.mean(sentinels[sentinel]), 2)"
   ],
   "metadata": {
    "collapsed": false
   },
   "id": "fc17b64bec95029d"
  },
  {
   "cell_type": "markdown",
   "source": [
    "### Plot01 - Raw Time Series Plotting\n",
    "\n",
    "Plotting the raw time series data for a selected trial and a selected sensor-data type"
   ],
   "metadata": {
    "collapsed": false
   },
   "id": "a203112d5f61f00"
  },
  {
   "cell_type": "code",
   "execution_count": null,
   "outputs": [],
   "source": [
    "# Plot Configuration\n",
    "sensor_type = \"gyr\"\n",
    "sentinel = \"DAQSentinel01\"\n",
    "sampling_rate = sampling_rates[sentinel]\n",
    "trial = \"Trial-1\""
   ],
   "metadata": {
    "collapsed": false
   },
   "id": "5d3e24e99dd30c0"
  },
  {
   "cell_type": "code",
   "execution_count": null,
   "outputs": [],
   "source": [
    "# Create figure and axes\n",
    "fig = plt.figure(figsize=(25, 20))\n",
    "axs = [fig.add_subplot(5, 1, x+1) for x in range(5)]\n",
    "\n",
    "# Select specific items\n",
    "selected_loaded_data = {}\n",
    "for file_name in loaded_data.keys():\n",
    "    if (sentinel + \"_dataAGO.csv\") in file_name.split(os.sep) and trial in file_name.split(os.sep):\n",
    "        selected_loaded_data[file_name] = copy.deepcopy(loaded_data[file_name])\n",
    "\n",
    "# Plot the raw data\n",
    "for index, data in enumerate(selected_loaded_data.keys()):\n",
    "    df = selected_loaded_data[data][\"df\"]\n",
    "    df[\"sampleTime\"] = list(range(0, df.shape[0]))\n",
    "    df[\"sampleTime\"] /= sampling_rate\n",
    "    # Select columns\n",
    "    cols = [col for col in df.columns.tolist() if sensor_type in col]\n",
    "    cols.append(\"sampleTime\")\n",
    "\n",
    "    # Plot raw time series\n",
    "    df[cols].plot(ax=axs[index], x=\"sampleTime\")\n",
    "\n",
    "    # Label the plot\n",
    "    axs[index].set_title(data.split(os.sep)[-3])\n",
    "    axs[index].set_xlabel(\"Time(s)\")\n",
    "    if sensor_type == \"acc\":\n",
    "        axs[index].set_ylabel(\"Acceleration(g)\")\n",
    "        axs[index].set_ylim([-1.5, 0.5])\n",
    "        axs[index].set_xlim([0, 15])\n",
    "    elif sensor_type == \"gyr\":\n",
    "        axs[index].set_ylabel(\"Gyroscope(deg/s)\")\n",
    "        axs[index].set_ylim([-40, +40])\n",
    "        axs[index].set_xlim([0, 15])\n",
    "\n",
    "fig.tight_layout()\n",
    "fig.savefig(os.path.join(fig_save_paths[\"save_paths\"][\"plot1\"], sentinel + \"-\" + sensor_type + \".png\"), dpi=600)\n",
    "plt.show()"
   ],
   "metadata": {
    "collapsed": false
   },
   "id": "1806a8825098344"
  },
  {
   "cell_type": "markdown",
   "source": [
    "### Plot02 - Histogram of the sensor output\n",
    "\n",
    "Where do the sensor values lie in general, across all the trials and by class?\n",
    "\n",
    "Structure of the plots\n",
    "- Create plots for all Sentinels across all five trials, and seperated by class within a plot."
   ],
   "metadata": {
    "collapsed": false
   },
   "id": "4c64e6a9b63339cb"
  },
  {
   "cell_type": "code",
   "execution_count": null,
   "outputs": [],
   "source": [
    "sensor_types = [\"acc\", \"gyr\"]\n",
    "for sensor_type in sensor_types:\n",
    "    for sentinel in sentinels.keys():\n",
    "        # Get all data for a sentinel\n",
    "        df_keys_by_sentinel = [x for x in loaded_data.keys() if sentinel in x]\n",
    "        \n",
    "        # Get the weight classes\n",
    "        classes = list(set(sorted([x.split(os.sep)[-3] for x in df_keys_by_sentinel])))\n",
    "        # Create a certain number of plots\n",
    "        fig = plt.figure(figsize=(25, 20))\n",
    "        axs = [fig.add_subplot(len(classes), 1, x+1) for x in range(len(classes))]\n",
    "        \n",
    "        # Group data by class\n",
    "        for class_index, class_instance in enumerate(classes):\n",
    "            # Select all trials for a class instance\n",
    "            df_keys_by_sentinelClass = [x for x in df_keys_by_sentinel if class_instance in x]\n",
    "            # Group df by class\n",
    "            for index, item in enumerate(df_keys_by_sentinelClass):\n",
    "                # Get the data\n",
    "                if index == 0:\n",
    "                    df = loaded_data[item][\"df\"]\n",
    "                    df = df.iloc[int(5 * sampling_rates[sentinel]):int(df.shape[0] - (5 * sampling_rates[sentinel]))]\n",
    "                else:\n",
    "                    temp = loaded_data[item][\"df\"]\n",
    "                    temp = temp.iloc[int(5 * sampling_rates[sentinel]):int(temp.shape[0] - (5 * sampling_rates[sentinel]))]\n",
    "                    df = pd.concat([df, temp], ignore_index=True, copy=True)\n",
    "                \n",
    "            # Select only the required columns\n",
    "            cols = [col for col in df.columns.tolist() if sensor_type in col]\n",
    "            # Creating the histogram plot\n",
    "            for col in cols:\n",
    "                axs[class_index].hist(df[col], bins=100, label=col)\n",
    "                # Label the figures\n",
    "                axs[class_index].set_title(class_instance)\n",
    "                if sensor_type == \"acc\":\n",
    "                    axs[class_index].set_xlabel(\"Acceleration(g)\")\n",
    "                elif sensor_type == \"gyr\":\n",
    "                    axs[class_index].set_xlabel(\"Gyroscope(deg/s)\")\n",
    "                axs[class_index].set_ylabel(\"Frequency\")\n",
    "                axs[class_index].legend()\n",
    "            # Share the x-axis\n",
    "            for i in range(1, len(axs)):\n",
    "                axs[i-1].sharex(axs[i])\n",
    "                \n",
    "        # Save the figure\n",
    "        fig.tight_layout()\n",
    "        fig.savefig(os.path.join(fig_save_paths[\"save_paths\"][\"plot2\"], sentinel + \"-\" + sensor_type + \".png\"), dpi=600)\n",
    "        \n",
    "        # Clear a few items\n",
    "        del fig, df\n",
    "    "
   ],
   "metadata": {
    "collapsed": false
   },
   "id": "d69791681bfaebaa"
  },
  {
   "cell_type": "code",
   "execution_count": null,
   "outputs": [],
   "source": [],
   "metadata": {
    "collapsed": false
   },
   "id": "7d804c0983763b0d"
  }
 ],
 "metadata": {
  "kernelspec": {
   "display_name": "Python 3",
   "language": "python",
   "name": "python3"
  },
  "language_info": {
   "codemirror_mode": {
    "name": "ipython",
    "version": 2
   },
   "file_extension": ".py",
   "mimetype": "text/x-python",
   "name": "python",
   "nbconvert_exporter": "python",
   "pygments_lexer": "ipython2",
   "version": "2.7.6"
  }
 },
 "nbformat": 4,
 "nbformat_minor": 5
}
