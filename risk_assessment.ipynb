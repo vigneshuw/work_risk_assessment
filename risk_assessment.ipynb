{
 "cells": [
  {
   "cell_type": "code",
   "execution_count": 2,
   "id": "initial_id",
   "metadata": {
    "collapsed": true,
    "ExecuteTime": {
     "end_time": "2023-10-18T16:24:31.832817Z",
     "start_time": "2023-10-18T16:24:31.830900Z"
    }
   },
   "outputs": [],
   "source": [
    "import copy\n",
    "import os\n",
    "import yaml\n",
    "import sys\n",
    "import matplotlib\n",
    "import matplotlib.pyplot as plt\n",
    "import numpy as np\n",
    "import pandas as pd\n",
    "import glob\n",
    "\n",
    "\n",
    "font = {\n",
    "    \"family\": 'monospace',\n",
    "    \"size\": 20\n",
    "}\n",
    "matplotlib.rc('font', **font)\n",
    "\n",
    "# Main data path\n",
    "data_path = os.path.join(os.getcwd(), \"data\")\n",
    "# Figures save paths\n",
    "with open(\"secrets.yml\", \"r\") as file_handle:\n",
    "    fig_save_paths = yaml.load(file_handle, Loader=yaml.Loader)"
   ]
  },
  {
   "cell_type": "markdown",
   "source": [
    "# Weight Lifting Task\n",
    "\n",
    "- Analyzing the data from lifting weights\n",
    "- There are two tasks here - Task-01 and Task-02"
   ],
   "metadata": {
    "collapsed": false
   },
   "id": "7702325907b7d897"
  },
  {
   "cell_type": "markdown",
   "source": [
    "## Task-02\n",
    "\n",
    "Lifting the weight and putting it on a table\n"
   ],
   "metadata": {
    "collapsed": false
   },
   "id": "e73be32a989c6b36"
  },
  {
   "cell_type": "code",
   "execution_count": 3,
   "outputs": [],
   "source": [
    "weight_lifting = os.path.join(data_path, \"WeightLifting\")\n",
    "# Get all the \".csv\" files\n",
    "all_parsed_files = glob.glob(\"**/*.csv\", root_dir=weight_lifting, recursive=True)\n",
    "\n",
    "# Select Task-2\n",
    "selected_parsed_files = [x for x in all_parsed_files if \"Task-2\" in x.split(os.sep)]\n",
    "\n",
    "# Get the weight classes\n",
    "weights = []\n",
    "for file in selected_parsed_files:\n",
    "    weight_class = file.split(os.sep)[2]\n",
    "    if weight_class not in weights:\n",
    "        weights.append(weight_class)\n",
    "\n",
    "# Load the data\n",
    "loaded_data = {}\n",
    "for file_path in selected_parsed_files:\n",
    "    # Full path to file\n",
    "    full_path = os.path.join(weight_lifting, file_path)\n",
    "\n",
    "    # Load the time of DAQ\n",
    "    with open(full_path, \"r\") as file_handle:\n",
    "        daq_time = file_handle.readline()\n",
    "        daq_time = daq_time.split(\" \")[-1]\n",
    "        daq_time = int(daq_time[0:-2])\n",
    "    # Read the csv\n",
    "    df = pd.read_csv(full_path, header=\"infer\", skiprows=1)\n",
    "\n",
    "    # Store data\n",
    "    loaded_data[full_path] = {\n",
    "        \"daq_time\": daq_time,\n",
    "        \"df\": df\n",
    "    }\n"
   ],
   "metadata": {
    "collapsed": false,
    "ExecuteTime": {
     "end_time": "2023-10-18T16:26:18.005441Z",
     "start_time": "2023-10-18T16:26:17.425887Z"
    }
   },
   "id": "48adaefca99cc3bb"
  },
  {
   "cell_type": "markdown",
   "source": [
    "### Evaluate the Sampling Performance\n",
    "\n",
    "How effectively can we maintain the sampling rate?\n"
   ],
   "metadata": {
    "collapsed": false
   },
   "id": "b082cf2d423fc091"
  },
  {
   "cell_type": "code",
   "execution_count": 4,
   "outputs": [
    {
     "name": "stdout",
     "output_type": "stream",
     "text": [
      "Sampling Rate for DAQSentinel01 with mean 400.07 and std of 12.14\n",
      "Sampling Rate for DAQSentinel02 with mean 391.05 and std of 11.74\n",
      "Sampling Rate for DAQSentinel03 with mean 392.74 and std of 11.85\n"
     ]
    }
   ],
   "source": [
    "sentinels = {\"DAQSentinel01\": [],\n",
    "             \"DAQSentinel02\": [],\n",
    "             \"DAQSentinel03\": []}\n",
    "sampling_rates = {}\n",
    "for file_path, data in loaded_data.items():\n",
    "    # Choose the right sentinel\n",
    "    sentinel = file_path.split(\"/\")[-1].split(\"_\")[0]\n",
    "\n",
    "    # Determine sampling rate\n",
    "    total_time = data[\"daq_time\"]\n",
    "    samples = data[\"df\"].shape[0]\n",
    "    sentinels[sentinel].append(samples / total_time)\n",
    "\n",
    "for sentinel in sentinels.keys():\n",
    "    print(\"Sampling Rate for \" + sentinel + \" with mean \" + str(round(np.mean(sentinels[sentinel]), 2)) +\n",
    "          \" and std of \" + str(round(np.std(sentinels[sentinel]), 2)))\n",
    "\n",
    "    # Get the mean sampling rate\n",
    "    sampling_rates[sentinel] = round(np.mean(sentinels[sentinel]), 2)"
   ],
   "metadata": {
    "collapsed": false,
    "ExecuteTime": {
     "end_time": "2023-10-18T16:26:59.463748Z",
     "start_time": "2023-10-18T16:26:59.458844Z"
    }
   },
   "id": "fc17b64bec95029d"
  },
  {
   "cell_type": "markdown",
   "source": [
    "### Plot01 - Raw Time Series Plotting\n",
    "\n",
    "Plotting the raw time series data for a selected trial and a selected sensor-data type"
   ],
   "metadata": {
    "collapsed": false
   },
   "id": "a203112d5f61f00"
  },
  {
   "cell_type": "code",
   "execution_count": null,
   "outputs": [],
   "source": [
    "# Plot Configuration\n",
    "sensor_type = \"gyr\"\n",
    "sentinel = \"DAQSentinel01\"\n",
    "sampling_rate = sampling_rates[sentinel]\n",
    "trial = \"Trial-1\""
   ],
   "metadata": {
    "collapsed": false
   },
   "id": "5d3e24e99dd30c0"
  },
  {
   "cell_type": "code",
   "execution_count": null,
   "outputs": [],
   "source": [
    "# Create figure and axes\n",
    "fig = plt.figure(figsize=(25, 20))\n",
    "axs = [fig.add_subplot(5, 1, x+1) for x in range(5)]\n",
    "\n",
    "# Select specific items\n",
    "selected_loaded_data = {}\n",
    "for file_name in loaded_data.keys():\n",
    "    if (sentinel + \"_dataAGO.csv\") in file_name.split(os.sep) and trial in file_name.split(os.sep):\n",
    "        selected_loaded_data[file_name] = copy.deepcopy(loaded_data[file_name])\n",
    "\n",
    "# Plot the raw data\n",
    "for index, data in enumerate(selected_loaded_data.keys()):\n",
    "    df = selected_loaded_data[data][\"df\"]\n",
    "    df[\"sampleTime\"] = list(range(0, df.shape[0]))\n",
    "    df[\"sampleTime\"] /= sampling_rate\n",
    "    # Select columns\n",
    "    cols = [col for col in df.columns.tolist() if sensor_type in col]\n",
    "    cols.append(\"sampleTime\")\n",
    "\n",
    "    # Plot raw time series\n",
    "    df[cols].plot(ax=axs[index], x=\"sampleTime\")\n",
    "\n",
    "    # Label the plot\n",
    "    axs[index].set_title(data.split(os.sep)[-3])\n",
    "    axs[index].set_xlabel(\"Time(s)\")\n",
    "    if sensor_type == \"acc\":\n",
    "        axs[index].set_ylabel(\"Acceleration(g)\")\n",
    "        axs[index].set_ylim([-1.5, 0.5])\n",
    "        axs[index].set_xlim([0, 15])\n",
    "    elif sensor_type == \"gyr\":\n",
    "        axs[index].set_ylabel(\"Gyroscope(deg/s)\")\n",
    "        axs[index].set_ylim([-40, +40])\n",
    "        axs[index].set_xlim([0, 15])\n",
    "\n",
    "fig.tight_layout()\n",
    "fig.savefig(os.path.join(fig_save_paths[\"save_paths\"][\"plot1\"], sentinel + \"-\" + sensor_type + \".png\"), dpi=600)\n",
    "plt.show()"
   ],
   "metadata": {
    "collapsed": false
   },
   "id": "1806a8825098344"
  },
  {
   "cell_type": "markdown",
   "source": [
    "### Plot02 - Histogram of the sensor output\n",
    "\n",
    "Where do the sensor values lie in general, across all the trials and by class?"
   ],
   "metadata": {
    "collapsed": false
   },
   "id": "4c64e6a9b63339cb"
  },
  {
   "cell_type": "code",
   "execution_count": 5,
   "outputs": [],
   "source": [
    "# Plot Configuration\n",
    "sensor_type = \"acc\"\n",
    "sentinel = \"DAQSentinel01\"\n",
    "sampling_rate = sampling_rates[sentinel]"
   ],
   "metadata": {
    "collapsed": false,
    "ExecuteTime": {
     "end_time": "2023-10-18T16:29:26.094727Z",
     "start_time": "2023-10-18T16:29:26.086281Z"
    }
   },
   "id": "dd82dbe7df3076da"
  },
  {
   "cell_type": "code",
   "execution_count": null,
   "outputs": [],
   "source": [],
   "metadata": {
    "collapsed": false
   },
   "id": "58903ccc57f9d119"
  }
 ],
 "metadata": {
  "kernelspec": {
   "display_name": "Python 3",
   "language": "python",
   "name": "python3"
  },
  "language_info": {
   "codemirror_mode": {
    "name": "ipython",
    "version": 2
   },
   "file_extension": ".py",
   "mimetype": "text/x-python",
   "name": "python",
   "nbconvert_exporter": "python",
   "pygments_lexer": "ipython2",
   "version": "2.7.6"
  }
 },
 "nbformat": 4,
 "nbformat_minor": 5
}
